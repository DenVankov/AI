{
 "cells": [
  {
   "cell_type": "code",
   "execution_count": 0,
   "metadata": {
    "colab": {},
    "colab_type": "code",
    "id": "hbnMu63sDxAi"
   },
   "outputs": [],
   "source": [
    "import numpy as np\n",
    "import tensorflow as tf\n",
    "import os\n",
    "import time\n",
    "import matplotlib.pyplot as plt"
   ]
  },
  {
   "cell_type": "code",
   "execution_count": 2,
   "metadata": {
    "colab": {
     "base_uri": "https://localhost:8080/",
     "height": 459
    },
    "colab_type": "code",
    "id": "IsEPyG0AD6_I",
    "outputId": "6539089e-0ea6-4936-8d21-36c367ce619e"
   },
   "outputs": [
    {
     "name": "stdout",
     "output_type": "stream",
     "text": [
      "     heapify(unsorted, 0, i)\n",
      "    return unsorted\n",
      "\n",
      "\n",
      "if __name__ == \"__main__\":\n",
      "    user_input = input(\"Enter numbers separated by a comma:\\n\").strip()\n",
      "    unsorted = [int(item) for item in user_input.split(\",\")]\n",
      "    print(heap_sort(unsorted))\n",
      "\n",
      "\n",
      "def selection_sort(collection):\n",
      "\n",
      "    length = len(collection)\n",
      "    for i in range(length - 1):\n",
      "        least = i\n",
      "        for k in range(i + 1, length):\n",
      "            if collection[k] < collection[least]:\n",
      "                least = k\n",
      "        if least != i:\n",
      "            collection[least], collection[i] = (collection[i], collection[least])\n",
      "    return collection\n",
      "\n",
      "\n",
      "if __name__ == \"__main__\":\n",
      "    user_input = input(\"Enter numbers separated by a comma:\\n\").strip()\n",
      " \n"
     ]
    }
   ],
   "source": [
    "text = open('./drive/My Drive/AI/out.txt', 'r').read()\n",
    "print(text[11000:11700])"
   ]
  },
  {
   "cell_type": "code",
   "execution_count": 3,
   "metadata": {
    "colab": {
     "base_uri": "https://localhost:8080/",
     "height": 51
    },
    "colab_type": "code",
    "id": "5hI-1aaeoWWq",
    "outputId": "7834fb4a-cbb6-428c-b405-1eadba80dc59"
   },
   "outputs": [
    {
     "name": "stdout",
     "output_type": "stream",
     "text": [
      "Full length of all text data is: 1007259 characters\n",
      "With 97 unique characters\n"
     ]
    }
   ],
   "source": [
    "print (f'Full length of all text data is: {len(text)} characters')\n",
    "vocabulary = sorted(set(text))\n",
    "print (f'With {len(vocabulary)} unique characters')"
   ]
  },
  {
   "cell_type": "markdown",
   "metadata": {
    "colab_type": "text",
    "id": "PhfSM4XDqJkP"
   },
   "source": [
    "# Data preparing\n"
   ]
  },
  {
   "cell_type": "code",
   "execution_count": 0,
   "metadata": {
    "colab": {},
    "colab_type": "code",
    "id": "euXscFBEoWUR"
   },
   "outputs": [],
   "source": [
    "char_to_idx = {c:i for i, c in enumerate(vocabulary)}\n",
    "idx_to_char = np.array(vocabulary)\n",
    "\n",
    "text_as_int = np.array([char_to_idx[c] for c in text])"
   ]
  },
  {
   "cell_type": "code",
   "execution_count": 5,
   "metadata": {
    "colab": {
     "base_uri": "https://localhost:8080/",
     "height": 54
    },
    "colab_type": "code",
    "id": "UFAU7PuZHEa5",
    "outputId": "40a70cc3-07d7-4a60-ad5d-adedf0bb758b"
   },
   "outputs": [
    {
     "name": "stdout",
     "output_type": "stream",
     "text": [
      "['\\t', '\\n', ' ', '!', '\"', '$', '%', '&', \"'\", '(', ')', '*', '+', ',', '-', '.', '/', '0', '1', '2', '3', '4', '5', '6', '7', '8', '9', ':', ';', '<', '=', '>', '?', '@', 'A', 'B', 'C', 'D', 'E', 'F', 'G', 'H', 'I', 'J', 'K', 'L', 'M', 'N', 'O', 'P', 'Q', 'R', 'S', 'T', 'U', 'V', 'W', 'X', 'Y', 'Z', '[', '\\\\', ']', '^', '_', '`', 'a', 'b', 'c', 'd', 'e', 'f', 'g', 'h', 'i', 'j', 'k', 'l', 'm', 'n', 'o', 'p', 'q', 'r', 's', 't', 'u', 'v', 'w', 'x', 'y', 'z', '{', '|', '}', '~', '：']\n"
     ]
    }
   ],
   "source": [
    "print(vocabulary)"
   ]
  },
  {
   "cell_type": "markdown",
   "metadata": {
    "colab_type": "text",
    "id": "9KhIP9WMMdSt"
   },
   "source": []
  },
  {
   "cell_type": "code",
   "execution_count": 0,
   "metadata": {
    "colab": {},
    "colab_type": "code",
    "id": "d6fj-Hrco1bv"
   },
   "outputs": [],
   "source": [
    "size = len(text_as_int)\n",
    "idx_split = int(size*0.75)\n",
    "train_text_as_int = text_as_int[:idx_split]\n",
    "test_text_as_int= text_as_int[idx_split:]"
   ]
  },
  {
   "cell_type": "code",
   "execution_count": 7,
   "metadata": {
    "colab": {
     "base_uri": "https://localhost:8080/",
     "height": 289
    },
    "colab_type": "code",
    "id": "LWu1KG4Go1f-",
    "outputId": "35e7ede4-ed6f-4125-a80d-06be930ebbf3"
   },
   "outputs": [
    {
     "name": "stdout",
     "output_type": "stream",
     "text": [
      "Examples of symbols and their indexes:\n",
      "'\\t':\t  0,\n",
      "'\\n':\t  1,\n",
      "' ' :\t  2,\n",
      "'!' :\t  3,\n",
      "'\"' :\t  4,\n",
      "'$' :\t  5,\n",
      "'%' :\t  6,\n",
      "'&' :\t  7,\n",
      "\"'\" :\t  8,\n",
      "'(' :\t  9,\n",
      "')' :\t 10,\n",
      "'*' :\t 11,\n",
      "'+' :\t 12,\n",
      "',' :\t 13,\n",
      "'-' :\t 14,\n"
     ]
    }
   ],
   "source": [
    "print('Examples of symbols and their indexes:')\n",
    "for char, _ in zip(char_to_idx, range(15)):\n",
    "    print(f'{repr(char):4s}:\\t{char_to_idx[char]:3d},')"
   ]
  },
  {
   "cell_type": "markdown",
   "metadata": {
    "colab_type": "text",
    "id": "r4s59tbiTRdu"
   },
   "source": [
    "# Create training examples and targets\n"
   ]
  },
  {
   "cell_type": "code",
   "execution_count": 0,
   "metadata": {
    "colab": {},
    "colab_type": "code",
    "id": "vMDA3_-Po1eZ"
   },
   "outputs": [],
   "source": [
    "train_char_dataset = tf.data.Dataset.from_tensor_slices(train_text_as_int)\n",
    "test_char_dataset =  tf.data.Dataset.from_tensor_slices(test_text_as_int)"
   ]
  },
  {
   "cell_type": "code",
   "execution_count": 0,
   "metadata": {
    "colab": {},
    "colab_type": "code",
    "id": "tuWJXM-JqsNp"
   },
   "outputs": [],
   "source": [
    "seq_length = 100\n",
    "examples_per_epoch = len(text) // (seq_length + 1)\n",
    "\n",
    "# Mmking sequence\n",
    "train_sequences = train_char_dataset.batch(seq_length + 1, drop_remainder=True)\n",
    "test_seqiences = test_char_dataset.batch(seq_length + 1, drop_remainder=True)"
   ]
  },
  {
   "cell_type": "code",
   "execution_count": 0,
   "metadata": {
    "colab": {},
    "colab_type": "code",
    "id": "CvvggubRq-re"
   },
   "outputs": [],
   "source": [
    "EPOCHS=10\n",
    "\n",
    "vocabulary_size = len(vocabulary)\n",
    "\n",
    "# Embedding dimension\n",
    "embedding_dim = 256\n",
    "\n",
    "# Number of RNN units\n",
    "rnn_units = 1024"
   ]
  },
  {
   "cell_type": "code",
   "execution_count": 0,
   "metadata": {
    "colab": {},
    "colab_type": "code",
    "id": "FI4_JRYtqsMC"
   },
   "outputs": [],
   "source": [
    "# Splitting by chunks\n",
    "def split_input_target(chunk):\n",
    "    input_text = chunk[:-1]\n",
    "    target_text = chunk[1:]\n",
    "    return input_text, target_text\n",
    "\n",
    "train_dataset = train_sequences.map(split_input_target)\n",
    "test_dataset = test_seqiences.map(split_input_target)"
   ]
  },
  {
   "cell_type": "code",
   "execution_count": 0,
   "metadata": {
    "colab": {},
    "colab_type": "code",
    "id": "8AVIsjAKqsJ5"
   },
   "outputs": [],
   "source": [
    "BATCH_SIZE = 64\n",
    "\n",
    "BUFFER_SIZE = 10000\n",
    "\n",
    "train_dataset = train_dataset.batch(BATCH_SIZE, drop_remainder=True)\n",
    "test_dataset = test_dataset.batch(BATCH_SIZE, drop_remainder=True)"
   ]
  },
  {
   "cell_type": "code",
   "execution_count": 0,
   "metadata": {
    "colab": {},
    "colab_type": "code",
    "id": "64Sn4aVbq-mn"
   },
   "outputs": [],
   "source": [
    "def loss(labels, logits):\n",
    "    return tf.keras.losses.sparse_categorical_crossentropy(labels, logits, from_logits=True)"
   ]
  },
  {
   "cell_type": "code",
   "execution_count": 0,
   "metadata": {
    "colab": {},
    "colab_type": "code",
    "id": "AXr0a41Gq-s5"
   },
   "outputs": [],
   "source": [
    "# Functions of building models\n",
    "def simple_rnn(vocabulary_size, embedding_dim, rnn_units, batch_size):\n",
    "    model = tf.keras.Sequential([\n",
    "    tf.keras.layers.Embedding(vocabulary_size, embedding_dim,\n",
    "                              batch_input_shape=[batch_size, None]),\n",
    "    tf.keras.layers.SimpleRNN(rnn_units,\n",
    "                        return_sequences=True,\n",
    "                        stateful=True,\n",
    "                        recurrent_initializer='glorot_uniform'),\n",
    "    tf.keras.layers.Dense(vocabulary_size)\n",
    "      ])\n",
    "      return model\n",
    "\n",
    "def one_layer_lstm(vocabulary_size, embedding_dim, rnn_units, batch_size):\n",
    "    model = tf.keras.Sequential([\n",
    "    tf.keras.layers.Embedding(vocabulary_size, embedding_dim,\n",
    "                              batch_input_shape=[batch_size, None]),\n",
    "    tf.keras.layers.LSTM(rnn_units,\n",
    "                        return_sequences=True,\n",
    "                        stateful=True,\n",
    "                        recurrent_initializer='glorot_uniform'),\n",
    "    tf.keras.layers.Dense(vocabulary_size)\n",
    "      ])\n",
    "    return model\n",
    "\n",
    "def two_layer_lstm(vocabulary_size, embedding_dim, rnn_units, batch_size):\n",
    "    model = tf.keras.Sequential([\n",
    "    tf.keras.layers.Embedding(vocabulary_size, embedding_dim,\n",
    "                              batch_input_shape=[batch_size, None]),\n",
    "    tf.keras.layers.LSTM(rnn_units,\n",
    "                        return_sequences=True,\n",
    "                        stateful=True,\n",
    "                        recurrent_initializer='glorot_uniform'),\n",
    "    tf.keras.layers.LSTM(rnn_units,\n",
    "                        return_sequences=True,\n",
    "                        stateful=True,\n",
    "                        recurrent_initializer='glorot_uniform'),\n",
    "    tf.keras.layers.Dense(vocabulary_size)\n",
    "      ])\n",
    "    return model\n",
    "\n",
    "def simple_gru(vocabulary_size, embedding_dim, rnn_units, batch_size):\n",
    "    model = tf.keras.Sequential([\n",
    "    tf.keras.layers.Embedding(vocabulary_size, embedding_dim,\n",
    "                              batch_input_shape=[batch_size, None]),\n",
    "    tf.keras.layers.GRU(rnn_units,\n",
    "                        return_sequences=True,\n",
    "                        stateful=True,\n",
    "                        recurrent_initializer='glorot_uniform'),\n",
    "    tf.keras.layers.Dense(vocabulary_size)\n",
    "        ])\n",
    "    return model"
   ]
  },
  {
   "cell_type": "code",
   "execution_count": 0,
   "metadata": {
    "colab": {},
    "colab_type": "code",
    "id": "saamrDz_q-k0"
   },
   "outputs": [],
   "source": [
    "model_simple_rnn = simple_rnn(\n",
    "    vocabulary_size = vocabulary_size,\n",
    "    embedding_dim=embedding_dim,\n",
    "    rnn_units=rnn_units,\n",
    "    batch_size=BATCH_SIZE\n",
    ")\n",
    "model_simple_rnn.compile(optimizer='adam', loss=loss,metrics=['accuracy'])"
   ]
  },
  {
   "cell_type": "code",
   "execution_count": 0,
   "metadata": {
    "colab": {},
    "colab_type": "code",
    "id": "wHldLcY7twGv"
   },
   "outputs": [],
   "source": [
    "model_one_layer_lstm = one_layer_lstm(\n",
    "    vocabulary_size = vocabulary_size,\n",
    "    embedding_dim=embedding_dim,\n",
    "    rnn_units=rnn_units,\n",
    "    batch_size=BATCH_SIZE\n",
    ")\n",
    "model_one_layer_lstm.compile(optimizer='adam', loss=loss,metrics=['accuracy'])"
   ]
  },
  {
   "cell_type": "code",
   "execution_count": 0,
   "metadata": {
    "colab": {},
    "colab_type": "code",
    "id": "E9kTZ5DMrPVe"
   },
   "outputs": [],
   "source": [
    "model_two_layer_lstm = two_layer_lstm(\n",
    "    vocabulary_size = vocabulary_size,\n",
    "    embedding_dim=embedding_dim,\n",
    "    rnn_units=rnn_units,\n",
    "    batch_size=BATCH_SIZE\n",
    ")\n",
    "model_two_layer_lstm.compile(optimizer='adam', loss=loss,metrics=['accuracy'])\n"
   ]
  },
  {
   "cell_type": "code",
   "execution_count": 0,
   "metadata": {
    "colab": {},
    "colab_type": "code",
    "id": "AqbMk3QGrXeK"
   },
   "outputs": [],
   "source": [
    "model_simple_gru = simple_gru(\n",
    "  vocabulary_size = vocabulary_size,\n",
    "  embedding_dim=embedding_dim,\n",
    "  rnn_units=rnn_units,\n",
    "  batch_size=BATCH_SIZE)\n",
    "model_simple_gru.compile(optimizer='adam', loss=loss,metrics=['accuracy'])"
   ]
  },
  {
   "cell_type": "code",
   "execution_count": 0,
   "metadata": {
    "colab": {},
    "colab_type": "code",
    "id": "zxIQ4QZ_rXj6"
   },
   "outputs": [],
   "source": [
    "path_save = './drive/My Drive/AI'\n",
    "# Paths\n",
    "checkpoint_dir_simple_rnn= f'{path_save}training_checkpoints_simple_rnn'\n",
    "checkpoint_dir_one_layer_lstm= f'{path_save}training_checkpoints_one_layer_lstm'\n",
    "checkpoint_dir_two_layer_lstm= f'{path_save}training_checkpoints_two_layer_lstm'\n",
    "checkpoint_dir_simple_gru = f'{path_save}training_checkpoints_simple_gru'\n",
    "\n",
    "# Checkpoints\n",
    "checkpoint_prefix_simple_rnn = os.path.join(checkpoint_dir_simple_rnn, \"check_on_{epoch}\")\n",
    "\n",
    "checkpoint_callback_simple_rnn=tf.keras.callbacks.ModelCheckpoint(\n",
    "    filepath=checkpoint_prefix_simple_rnn,\n",
    "    save_weights_only=True)\n",
    "\n",
    "checkpoint_prefix_one_layer_lstm = os.path.join(checkpoint_dir_one_layer_lstm, \"check_on_{epoch}\")\n",
    "\n",
    "checkpoint_callback_one_layer_lstm=tf.keras.callbacks.ModelCheckpoint(\n",
    "    filepath=checkpoint_prefix_one_layer_lstm,\n",
    "    save_weights_only=True)\n",
    "\n",
    "\n",
    "checkpoint_prefix_two_layer_lstm = os.path.join(checkpoint_dir_two_layer_lstm, \"check_on_{epoch}\")\n",
    "\n",
    "checkpoint_callback_two_layer_lstm=tf.keras.callbacks.ModelCheckpoint(\n",
    "    filepath=checkpoint_prefix_two_layer_lstm,\n",
    "    save_weights_only=True)\n",
    "\n",
    "checkpoint_prefix_simple_gru = os.path.join(checkpoint_dir_simple_gru, \"check_on_{epoch}\")\n",
    "\n",
    "checkpoint_callback_simple_gru=tf.keras.callbacks.ModelCheckpoint(\n",
    "    filepath=checkpoint_prefix_simple_gru,\n",
    "    save_weights_only=True)"
   ]
  },
  {
   "cell_type": "markdown",
   "metadata": {
    "colab_type": "text",
    "id": "VGXQsqNuxx2-"
   },
   "source": [
    "# Simple RNN"
   ]
  },
  {
   "cell_type": "code",
   "execution_count": 20,
   "metadata": {
    "colab": {
     "base_uri": "https://localhost:8080/",
     "height": 357
    },
    "colab_type": "code",
    "id": "xYvnmgbDrXn_",
    "outputId": "07b8627e-6371-4639-87b5-465d335736c3"
   },
   "outputs": [
    {
     "name": "stdout",
     "output_type": "stream",
     "text": [
      "Epoch 1/10\n",
      "116/116 [==============================] - 10s 83ms/step - loss: 3.0607 - accuracy: 0.3115 - val_loss: 2.4983 - val_accuracy: 0.3957\n",
      "Epoch 2/10\n",
      "116/116 [==============================] - 10s 83ms/step - loss: 2.1747 - accuracy: 0.4550 - val_loss: 2.1769 - val_accuracy: 0.4566\n",
      "Epoch 3/10\n",
      "116/116 [==============================] - 9s 81ms/step - loss: 1.9445 - accuracy: 0.5028 - val_loss: 2.0226 - val_accuracy: 0.4897\n",
      "Epoch 4/10\n",
      "116/116 [==============================] - 9s 81ms/step - loss: 1.8203 - accuracy: 0.5315 - val_loss: 1.9456 - val_accuracy: 0.5065\n",
      "Epoch 5/10\n",
      "116/116 [==============================] - 9s 81ms/step - loss: 1.6779 - accuracy: 0.5649 - val_loss: 1.8648 - val_accuracy: 0.5229\n",
      "Epoch 6/10\n",
      "116/116 [==============================] - 9s 81ms/step - loss: 1.5611 - accuracy: 0.5938 - val_loss: 1.8125 - val_accuracy: 0.5384\n",
      "Epoch 7/10\n",
      "116/116 [==============================] - 9s 81ms/step - loss: 1.4629 - accuracy: 0.6170 - val_loss: 1.7699 - val_accuracy: 0.5518\n",
      "Epoch 8/10\n",
      "116/116 [==============================] - 9s 80ms/step - loss: 1.3767 - accuracy: 0.6386 - val_loss: 1.7436 - val_accuracy: 0.5594\n",
      "Epoch 9/10\n",
      "116/116 [==============================] - 10s 83ms/step - loss: 1.2927 - accuracy: 0.6609 - val_loss: 1.7235 - val_accuracy: 0.5663\n",
      "Epoch 10/10\n",
      "116/116 [==============================] - 10s 84ms/step - loss: 1.2244 - accuracy: 0.6784 - val_loss: 1.7116 - val_accuracy: 0.5715\n"
     ]
    }
   ],
   "source": [
    "history_simple_rnn = model_simple_rnn.fit(train_dataset, epochs=EPOCHS, callbacks=[checkpoint_callback_simple_rnn], validation_data=test_dataset)"
   ]
  },
  {
   "cell_type": "markdown",
   "metadata": {
    "colab_type": "text",
    "id": "UtZ_HtVKx1ga"
   },
   "source": [
    "# One Layer LSTM"
   ]
  },
  {
   "cell_type": "code",
   "execution_count": 21,
   "metadata": {
    "colab": {
     "base_uri": "https://localhost:8080/",
     "height": 357
    },
    "colab_type": "code",
    "id": "aL8aNPahuVEK",
    "outputId": "e72b72a7-8306-48c9-8d88-b9081ab328d2"
   },
   "outputs": [
    {
     "name": "stdout",
     "output_type": "stream",
     "text": [
      "Epoch 1/10\n",
      "116/116 [==============================] - 8s 72ms/step - loss: 2.8483 - accuracy: 0.3283 - val_loss: 2.5143 - val_accuracy: 0.3695\n",
      "Epoch 2/10\n",
      "116/116 [==============================] - 8s 68ms/step - loss: 2.2537 - accuracy: 0.4307 - val_loss: 2.1067 - val_accuracy: 0.4547\n",
      "Epoch 3/10\n",
      "116/116 [==============================] - 8s 68ms/step - loss: 1.9199 - accuracy: 0.5024 - val_loss: 1.8780 - val_accuracy: 0.5112\n",
      "Epoch 4/10\n",
      "116/116 [==============================] - 8s 67ms/step - loss: 1.6866 - accuracy: 0.5578 - val_loss: 1.7310 - val_accuracy: 0.5471\n",
      "Epoch 5/10\n",
      "116/116 [==============================] - 8s 68ms/step - loss: 1.4971 - accuracy: 0.6049 - val_loss: 1.6243 - val_accuracy: 0.5758\n",
      "Epoch 6/10\n",
      "116/116 [==============================] - 8s 67ms/step - loss: 1.3440 - accuracy: 0.6440 - val_loss: 1.5653 - val_accuracy: 0.5933\n",
      "Epoch 7/10\n",
      "116/116 [==============================] - 8s 67ms/step - loss: 1.2206 - accuracy: 0.6752 - val_loss: 1.5368 - val_accuracy: 0.6013\n",
      "Epoch 8/10\n",
      "116/116 [==============================] - 8s 69ms/step - loss: 1.1141 - accuracy: 0.7029 - val_loss: 1.5109 - val_accuracy: 0.6103\n",
      "Epoch 9/10\n",
      "116/116 [==============================] - 8s 67ms/step - loss: 1.0240 - accuracy: 0.7258 - val_loss: 1.5060 - val_accuracy: 0.6147\n",
      "Epoch 10/10\n",
      "116/116 [==============================] - 8s 68ms/step - loss: 0.9385 - accuracy: 0.7487 - val_loss: 1.5164 - val_accuracy: 0.6138\n"
     ]
    }
   ],
   "source": [
    "history_one_layer_lstm = model_one_layer_lstm.fit(train_dataset, epochs=EPOCHS, callbacks=[checkpoint_callback_one_layer_lstm], validation_data=test_dataset)"
   ]
  },
  {
   "cell_type": "markdown",
   "metadata": {
    "colab_type": "text",
    "id": "eLsxcvulx1d6"
   },
   "source": [
    "#Two Layer LSTM"
   ]
  },
  {
   "cell_type": "code",
   "execution_count": 22,
   "metadata": {
    "colab": {
     "base_uri": "https://localhost:8080/",
     "height": 357
    },
    "colab_type": "code",
    "id": "GlpnI9Q6rtEP",
    "outputId": "c25e65a3-9c34-4098-a71c-d92da93a4469"
   },
   "outputs": [
    {
     "name": "stdout",
     "output_type": "stream",
     "text": [
      "Epoch 1/10\n",
      "116/116 [==============================] - 17s 145ms/step - loss: 2.9613 - accuracy: 0.3000 - val_loss: 2.7157 - val_accuracy: 0.3153\n",
      "Epoch 2/10\n",
      "116/116 [==============================] - 16s 138ms/step - loss: 2.4062 - accuracy: 0.3836 - val_loss: 2.3197 - val_accuracy: 0.3996\n",
      "Epoch 3/10\n",
      "116/116 [==============================] - 16s 138ms/step - loss: 2.0252 - accuracy: 0.4743 - val_loss: 1.9665 - val_accuracy: 0.4853\n",
      "Epoch 4/10\n",
      "116/116 [==============================] - 16s 138ms/step - loss: 1.7550 - accuracy: 0.5361 - val_loss: 1.7798 - val_accuracy: 0.5285\n",
      "Epoch 5/10\n",
      "116/116 [==============================] - 16s 138ms/step - loss: 1.5316 - accuracy: 0.5913 - val_loss: 1.6629 - val_accuracy: 0.5609\n",
      "Epoch 6/10\n",
      "116/116 [==============================] - 16s 138ms/step - loss: 1.3386 - accuracy: 0.6416 - val_loss: 1.6119 - val_accuracy: 0.5804\n",
      "Epoch 7/10\n",
      "116/116 [==============================] - 16s 139ms/step - loss: 1.1867 - accuracy: 0.6815 - val_loss: 1.5635 - val_accuracy: 0.5926\n",
      "Epoch 8/10\n",
      "116/116 [==============================] - 16s 139ms/step - loss: 1.0590 - accuracy: 0.7156 - val_loss: 1.5581 - val_accuracy: 0.5992\n",
      "Epoch 9/10\n",
      "116/116 [==============================] - 16s 139ms/step - loss: 0.9472 - accuracy: 0.7453 - val_loss: 1.5633 - val_accuracy: 0.6014\n",
      "Epoch 10/10\n",
      "116/116 [==============================] - 16s 138ms/step - loss: 0.8479 - accuracy: 0.7716 - val_loss: 1.5592 - val_accuracy: 0.6088\n"
     ]
    }
   ],
   "source": [
    "history_two_layer_lstm = model_two_layer_lstm.fit(train_dataset, epochs=EPOCHS, callbacks=[checkpoint_callback_two_layer_lstm], validation_data=test_dataset)"
   ]
  },
  {
   "cell_type": "markdown",
   "metadata": {
    "colab_type": "text",
    "id": "6DaSqgZiyAm6"
   },
   "source": [
    "# Simple GRU"
   ]
  },
  {
   "cell_type": "code",
   "execution_count": 23,
   "metadata": {
    "colab": {
     "base_uri": "https://localhost:8080/",
     "height": 357
    },
    "colab_type": "code",
    "id": "z5x46xGYrtI9",
    "outputId": "21d8b38d-4ba7-4063-aa39-ad6d1334863c"
   },
   "outputs": [
    {
     "name": "stdout",
     "output_type": "stream",
     "text": [
      "Epoch 1/10\n",
      "116/116 [==============================] - 6s 55ms/step - loss: 2.9979 - accuracy: 0.3431 - val_loss: 2.3969 - val_accuracy: 0.3893\n",
      "Epoch 2/10\n",
      "116/116 [==============================] - 6s 51ms/step - loss: 2.1791 - accuracy: 0.4433 - val_loss: 2.0392 - val_accuracy: 0.4701\n",
      "Epoch 3/10\n",
      "116/116 [==============================] - 6s 53ms/step - loss: 1.8557 - accuracy: 0.5177 - val_loss: 1.8171 - val_accuracy: 0.5261\n",
      "Epoch 4/10\n",
      "116/116 [==============================] - 6s 52ms/step - loss: 1.6194 - accuracy: 0.5754 - val_loss: 1.6838 - val_accuracy: 0.5656\n",
      "Epoch 5/10\n",
      "116/116 [==============================] - 6s 52ms/step - loss: 1.4333 - accuracy: 0.6220 - val_loss: 1.6038 - val_accuracy: 0.5877\n",
      "Epoch 6/10\n",
      "116/116 [==============================] - 6s 52ms/step - loss: 1.2807 - accuracy: 0.6609 - val_loss: 1.5589 - val_accuracy: 0.6003\n",
      "Epoch 7/10\n",
      "116/116 [==============================] - 6s 52ms/step - loss: 1.1502 - accuracy: 0.6940 - val_loss: 1.5458 - val_accuracy: 0.6068\n",
      "Epoch 8/10\n",
      "116/116 [==============================] - 6s 53ms/step - loss: 1.0396 - accuracy: 0.7230 - val_loss: 1.5448 - val_accuracy: 0.6116\n",
      "Epoch 9/10\n",
      "116/116 [==============================] - 6s 53ms/step - loss: 0.9420 - accuracy: 0.7489 - val_loss: 1.5654 - val_accuracy: 0.6129\n",
      "Epoch 10/10\n",
      "116/116 [==============================] - 6s 55ms/step - loss: 0.8569 - accuracy: 0.7714 - val_loss: 1.5809 - val_accuracy: 0.6140\n"
     ]
    }
   ],
   "source": [
    "history_simple_gru = model_simple_gru.fit(train_dataset, epochs=EPOCHS, callbacks=[checkpoint_callback_simple_gru], validation_data=test_dataset)"
   ]
  },
  {
   "cell_type": "code",
   "execution_count": 0,
   "metadata": {
    "colab": {},
    "colab_type": "code",
    "id": "riJohhbwrtV6"
   },
   "outputs": [],
   "source": [
    "model_simple_rnn = simple_rnn(vocabulary_size, embedding_dim, rnn_units, batch_size=1)\n",
    "\n",
    "model_simple_rnn.load_weights(tf.train.latest_checkpoint(checkpoint_dir_simple_rnn))\n",
    "\n",
    "model_simple_rnn.build(tf.TensorShape([1, None]))"
   ]
  },
  {
   "cell_type": "code",
   "execution_count": 0,
   "metadata": {
    "colab": {},
    "colab_type": "code",
    "id": "ZrRueH4kuoex"
   },
   "outputs": [],
   "source": [
    "model_one_layer_lstm = one_layer_lstm(vocabulary_size, embedding_dim, rnn_units, batch_size=1)\n",
    "\n",
    "model_one_layer_lstm.load_weights(tf.train.latest_checkpoint(checkpoint_dir_one_layer_lstm))\n",
    "\n",
    "model_one_layer_lstm.build(tf.TensorShape([1, None]))"
   ]
  },
  {
   "cell_type": "code",
   "execution_count": 0,
   "metadata": {
    "colab": {},
    "colab_type": "code",
    "id": "vV-kGTMQr70P"
   },
   "outputs": [],
   "source": [
    "model_two_layer_lstm = two_layer_lstm(vocabulary_size, embedding_dim, rnn_units, batch_size=1)\n",
    "\n",
    "model_two_layer_lstm.load_weights(tf.train.latest_checkpoint(checkpoint_dir_two_layer_lstm))\n",
    "\n",
    "model_two_layer_lstm.build(tf.TensorShape([1, None]))"
   ]
  },
  {
   "cell_type": "code",
   "execution_count": 0,
   "metadata": {
    "colab": {},
    "colab_type": "code",
    "id": "cw7GNbbGr74r"
   },
   "outputs": [],
   "source": [
    "model_simple_gru = simple_gru(vocabulary_size, embedding_dim, rnn_units, batch_size=1)\n",
    "\n",
    "model_simple_gru.load_weights(tf.train.latest_checkpoint(checkpoint_dir_simple_gru))\n",
    "\n",
    "model_simple_gru.build(tf.TensorShape([1, None]))"
   ]
  },
  {
   "cell_type": "markdown",
   "metadata": {
    "colab_type": "text",
    "id": "XzAct9oZWfb6"
   },
   "source": [
    "# Text generating"
   ]
  },
  {
   "cell_type": "code",
   "execution_count": 0,
   "metadata": {
    "colab": {},
    "colab_type": "code",
    "id": "yeKKZtIXr728"
   },
   "outputs": [],
   "source": [
    "def generate_text(model, start_string):\n",
    "    # Evaluation step (generating text using the learned model)\n",
    "    # Number of characters to generate\n",
    "    num_generate = 1000\n",
    "  \n",
    "    # Vectorizing\n",
    "    evaluation = [char_to_idx[s] for s in start_string]\n",
    "    evaluation = tf.expand_dims(evaluation, 0)\n",
    "    # Empty string to store our results\n",
    "    new_text = []\n",
    "\n",
    "    # Low temperatures results in more predictable text\n",
    "    # Higher temperatures results in more surprising text\n",
    "    # Experiment to find the best setting\n",
    "    temperature = 1.0\n",
    "\n",
    "    # Batch size = 1\n",
    "    model.reset_states()\n",
    "\n",
    "    for i in range(num_generate):\n",
    "        predictions = model(evaluation)\n",
    "\n",
    "        # Removing the batch dimension\n",
    "        predictions = tf.squeeze(predictions, 0)\n",
    "\n",
    "        # Using a categorical distribution to predict the character returned by the model\n",
    "        predictions = predictions / temperature\n",
    "        predicted_id = tf.random.categorical(predictions, num_samples=1)[-1,0].numpy()\n",
    "\n",
    "        # We pass the predicted character as the next input to the model\n",
    "        # along with the previous hidden state\n",
    "        evaluation = tf.expand_dims([predicted_id], 0)\n",
    "\n",
    "        new_text.append(idx_to_char[predicted_id])\n",
    "    return (start_string + ''.join(new_text))"
   ]
  },
  {
   "cell_type": "markdown",
   "metadata": {
    "colab_type": "text",
    "id": "GeIBHPj1yHOF"
   },
   "source": [
    "# Generated code of all models"
   ]
  },
  {
   "cell_type": "code",
   "execution_count": 29,
   "metadata": {
    "colab": {
     "base_uri": "https://localhost:8080/",
     "height": 612
    },
    "colab_type": "code",
    "id": "LYQkzv2isGPN",
    "outputId": "c9f09e17-9d6f-4a95-f403-da670f942e95"
   },
   "outputs": [
    {
     "name": "stdout",
     "output_type": "stream",
     "text": [
      "if __name__ == '__main__':\n",
      "    )\n",
      "        semp1 == left.hounssasslist.soutink\n",
      "\n",
      "    def ren(ratd)).arrom(Watin\n",
      "\n",
      "        return _retin([5]) * len(chor2,  = coor[reut.cigher_mparent.right\n",
      "\n",
      "    eif self.in_resoltBstargex) -> Nob : intr self.preyL[selt.list_ple[:/\"*-4].Zencitit(\")\n",
      "    mit] = \"doft_atein_titicosh(key)):\n",
      " bromess.solite(*\")\n",
      "    key_mils = [self.laclloss()\n",
      "    print(\"A>= \".j\n",
      "\n",
      "is 12, times = []\n",
      "    tree.fist(ins)\n",
      "    print(f\"E+=1)\n",
      "    else:\n",
      "            self.siors = lemalingerssoat[i] == 1\n",
      "        if                      crect(selt) -> TreeNonsvapul\n",
      "\n",
      "    def __mFiti_noin_pate()\n",
      "\n",
      "    print(f\"Brectset(keyFulof):\n",
      "\n",
      "    def vallesims(s)\n",
      "\n",
      "                outs_rotat_lower().romgt), pates) -> iat: left += 1\n",
      "            self.freakneales(cect_nex__root(_nade.sotol_best== statt) -> str:\n",
      "    ret = Neness:\n",
      "        return semINFil = Train_Dise(grapl[bedata[key== paren.s(min()\n",
      "        return (self.ja:\n",
      "        return Fal el ass g.coVerrited\"\\n\"M\"vicPoat:1\"))\n",
      "        for ch in self.sibl==\"P\"MBOLSTTIIn\"M%\"P\") {\"-\"D\")\n",
      "    de\n"
     ]
    }
   ],
   "source": [
    "print(generate_text(model_simple_rnn, start_string=\"if __name__ == \\'__main__\\':\\n\"))"
   ]
  },
  {
   "cell_type": "code",
   "execution_count": 30,
   "metadata": {
    "colab": {
     "base_uri": "https://localhost:8080/",
     "height": 799
    },
    "colab_type": "code",
    "id": "Fby6EkKhxpz_",
    "outputId": "bdb393aa-0917-4db4-9a4f-8f0b957e7c8d"
   },
   "outputs": [
    {
     "name": "stdout",
     "output_type": "stream",
     "text": [
      "if __name__ == '__main__':\n",
      "    @paored_firencutimap(self.encrypt_onchy:\n",
      "                return -1\n",
      "\n",
      "    def __nimi__(\":     _   mud_poolictertion.lingtance(len(str=Nown)\n",
      "        self.wit_not = let()\n",
      "                next_ncol = ch\n",
      "            for keywirt timoint:\n",
      "        while prue_arr[i]\n",
      "    symple = []\n",
      "\n",
      "    return Mixth\n",
      "\n",
      "\n",
      "def create_chts = [hyst.pleff(twal.app\n",
      "           x_new\n",
      "\n",
      "     @dex_size_paiting_time2, train_tablet(x)\n",
      "        srcVertex = tree.right.right(sllf.min_beatenctive\",\n",
      "                self.keyBion(train_x,\n",
      "    tree_insert(17834764_864__531_365_443_688_Falue, whild_porition_time(DTataR, x)\n",
      "\n",
      "    pmint(decrypt(chl_cluster\n",
      " suscontertor=abtubackIn; \tactoda.clo/`/\n",
      "\t\t\tficfils?\"\n",
      "            self.label(keyArime_check([3], keySize)\n",
      ")\n",
      "\n",
      "\n",
      "if __name__ == \"__main__\"\n",
      "\n",
      "\n",
      "def devalk_exilist()\n",
      "    plt._minflo_rabin(Q_newt_ind:\n",
      "    clost_insert(input_string(self.right_not init, stm:\n",
      "        return Files(\n",
      "        self.parent.flow()\n",
      "\n",
      "            while  / decipition or j in adget[vaid_]att\n",
      "\t\n",
      "\tunckif\"\n",
      "\n",
      "\n",
      "class chi:\n",
      "\n",
      "ptint =\n"
     ]
    }
   ],
   "source": [
    "print(generate_text(model_one_layer_lstm, start_string=\"if __name__ == \\'__main__\\':\\n\"))"
   ]
  },
  {
   "cell_type": "code",
   "execution_count": 31,
   "metadata": {
    "colab": {
     "base_uri": "https://localhost:8080/",
     "height": 581
    },
    "colab_type": "code",
    "id": "q_FF0MrLsGR3",
    "outputId": "9f6a39f8-6b1e-44e2-e8c7-58c94b3044d2"
   },
   "outputs": [
    {
     "name": "stdout",
     "output_type": "stream",
     "text": [
      "if __name__ == '__main__':\n",
      "    bf),\n",
      "    \"E\": \"...---\",\n",
      "    \"K\": \".....-S.B6-1(OQ\"),\n",
      "    [0.7, 1.7757],\n",
      "        957,\n",
      "        [1, 3, 2, 0, 0, 0, 0],\n",
      "    [0, 0, 0, 0],\n",
      "    [0, 0, 0, 1\n",
      "    [0, 0, 0, 0, 0],\n",
      ")\n",
      "\n",
      "\n",
      "class Bobe6)\n",
      "graph\n",
      "    def shocks(statulher\":\n",
      "        biser_corrate_forca_herver_cost = False\n",
      "    right_list[i, \"deterationS[F1.\")),\n",
      "            }(\"Enterbodic\"MaB}\")\n",
      "                    if self.left..gireL.jeyS():\n",
      "                keyA TheE B Fibona root\"\n",
      "                f\"data huy to divate Ha^turn\")\n",
      "    if self.right(v.Z) ond oote!we/\" \"$ ortion\"'\")\n",
      "    unary = \"\"\n",
      "    print(input(\"\\ncour)\")\n",
      "stort thpated time that!\")\n",
      "\t\tchy out>>\"\tinc.\"\n",
      "\textithed\n",
      " \t=$b\n",
      "\t\t\t\t\t\t/\\\t\t;$\t\t$\t^\t\t\t$^od/`\"{.G\t|\t\t*\t}\td]|/\t>\\\t\t\"\t\t\t$\t\t\t^\t${\t//\t^;\tcz^^?$}\\\t\t\t\t\t\t\\\t\t\t\tj$\tc<\\;z\" \t%>\t?cw|\\.\\n\\$F|\t\t&\t^<{\"\";\t\t\t\n",
      "\t\t\t\t\t\t%\t\t!\\/$$$\t$^{$\\V\tG\t$$|\t\\Gufev/\"d\"$\t\t\t^\t\t;\t\ttJn\"\t\t$/;/;/\t**\t$\"$\tf--^\\$Z$\t$$\t^T/|$\t!\\$i$i.fp-\"$$$$^d\t$G*{'^>X\t\t\t|\t\t&|'\\^;&\\Id：\"\t^\t}\t;\t;-\t/{^$}f\"\t$W$z'r/^$$L}&W^\"\"\t\t\t\t\t$\t\t^：*\t;\t\t\t?\"\t\t;\t\t\t\"|\t'h3\t\t\tw\t?\t\\\t*\t~\\\t\n",
      "\t\t!\tV>*{;\"\t/%T}\"\t5$%d/.;cri;\n"
     ]
    }
   ],
   "source": [
    "print(generate_text(model_two_layer_lstm, start_string=\"if __name__ == \\'__main__\\':\\n\"))"
   ]
  },
  {
   "cell_type": "code",
   "execution_count": 32,
   "metadata": {
    "colab": {
     "base_uri": "https://localhost:8080/",
     "height": 663
    },
    "colab_type": "code",
    "id": "mNVcVWWfsONw",
    "outputId": "f1421cf3-c9a2-44b7-ff45-df8aade28b18"
   },
   "outputs": [
    {
     "name": "stdout",
     "output_type": "stream",
     "text": [
      "if __name__ == '__main__':\n",
      "            rascle= Trueitions({mid) + forwed(* \")\n",
      "            check = item += pattern%tEdg_positions()\n",
      "\n",
      "        if self.is is None:\n",
      "              rri in prevertex.append([0):\n",
      "        return False\n",
      "\n",
      "\n",
      "def newton_ruphours(prain:\n",
      "\n",
      "        if len(stockec)\n",
      "         n = math[i - 1][j - no][k] + c = \"ZBUABQ\",\n",
      "        \"K\"G\":, \"etPi: \",.\"\".\"0..-99.658_885_8675, 1.769],\n",
      "    [5.489, -.689, 8.8],\n",
      "   [[\"C\"],\n",
      "    \"C14: 1.04\",\n",
      "        \"%s = \"A[B.SIJu.divet:\"\")\n",
      "    print(\"\\nWipher map           \"hup inversection for i e       return False\n",
      "                if self.tax [left + closest_in_state[source:\n",
      "                palse = charaction[j]\n",
      "            or (heapection) %s(a[row:)[0] + 10\")\n",
      "                )\n",
      "\n",
      "    return 100\n",
      "    return chars,\n",
      "         719,\n",
      "        217,\n",
      "        372,\n",
      "        447,\n",
      "        989,\n",
      "        477,\n",
      "        199,\n",
      "        799,\n",
      "        \"833],\n",
      "    \"H\": \"......gattub, character2Nbe(a, l), vessutations\n",
      "    while True of parent.color(self.list) + 1):\n",
      "                        if col rel = flowNewPa\n"
     ]
    }
   ],
   "source": [
    "print(generate_text(model_simple_gru, start_string=\"if __name__ == \\'__main__\\':\\n\"))"
   ]
  },
  {
   "cell_type": "code",
   "execution_count": 33,
   "metadata": {
    "colab": {
     "base_uri": "https://localhost:8080/",
     "height": 663
    },
    "colab_type": "code",
    "id": "jgMD-1R3sOL3",
    "outputId": "8f17749c-021b-4431-cd9f-9a44ae268b9f"
   },
   "outputs": [
    {
     "name": "stdout",
     "output_type": "stream",
     "text": [
      "if __name__ == '__main__':\n",
      "    pattern = \"\"\n",
      "    tople.titt(\"th is {mean(0, \").shopte):\n",
      "        raise Typet\", \"uncof\": Meass_shate deve_ilj}\")\n",
      "        if not (0 <= 2 and rypartent()])\n",
      "            if self.len(revile))\n",
      "\n",
      "    for i in alpha:\n",
      "        return T, encrypted.Tx\n",
      "                key = (len(string.time, List[int])\n",
      "        if color[ind is None:\n",
      "                                        edges set():\n",
      "        return False\n",
      "\n",
      "\n",
      "def in_tring_time_sort(bunsike, max_rev, = 10:\n",
      "            if self.i > self._key_list.pop()\n",
      "                    with open(\"Ar-\", \"b\", \"E+\", \"Y.CDj is +6.forces(\" and not user_list[0])\n",
      "        i += 1\n",
      "\n",
      "    return deque\n",
      "\n",
      "    return \"\\n char {: \").strip()\n",
      "    total_turl = boloracy(sum) % mid\n",
      "\n",
      "\n",
      "if __name__ == \"__main__\":\n",
      "    import doctest\n",
      "\n",
      "    doctest.testmod()\n",
      "tree.append(temp\n",
      "        ret.iterror(\"Uosh(\"W\")}\")\n",
      "fij = (left + rot foul.\"aked', data*s2):\n",
      "                repur_left\n",
      "\n",
      "    for i in zetT[0][-1:-0.191], \"N.-\"-\")\n",
      "    if contingut <= b > calculate_encrypt_vector[1]\n",
      "                            \n"
     ]
    }
   ],
   "source": [
    "print(generate_text(model_simple_gru, start_string=\"if __name__ == \\'__main__\\':\\n\"))"
   ]
  },
  {
   "cell_type": "code",
   "execution_count": 0,
   "metadata": {
    "colab": {},
    "colab_type": "code",
    "id": "5vK8d_ouu0u4"
   },
   "outputs": [],
   "source": [
    "path = './drive/My Drive/AI/Plots/'\n",
    "def plot_metrics(history, key_list, title_fig = '', name_save='fig'):\n",
    "    count_key = len(key_list)\n",
    "    fig, axs = plt.subplots(nrows=1,ncols =count_key, figsize=(12,6))\n",
    "    plt.subplots_adjust(wspace=0.25, hspace=0)\n",
    "    fig.suptitle(title_fig, fontsize=16)\n",
    "    if count_key > 1:\n",
    "        for i,key in enumerate(key_list):\n",
    "            axs[i].plot(history.history[key],label=f'train {key}',color='green')\n",
    "            axs[i].plot(history.history[f'val_{key}'],label=f'test {key}',color='red')\n",
    "            axs[i].set_title(f'metrics -- {key}')\n",
    "      \n",
    "          axs[i].set_ylabel(f'{key}')\n",
    "          axs[i].legend()\n",
    "    else:\n",
    "        key = key_list[0]\n",
    "        axs.plot(history.history[key],label=f'train {key}',color='green')\n",
    "        axs.plot(history.history[f'val_{key}'],label=f'test {key}',color='red')\n",
    "      \n",
    "        axs.set_title(f'metrics -- {key}')\n",
    "        axs.set_ylabel(f'{key}')\n",
    "        axs.legend()\n",
    "  \n",
    "    fig.savefig(f'{path}metrics_{name_save}.png')"
   ]
  },
  {
   "cell_type": "code",
   "execution_count": 0,
   "metadata": {
    "colab": {},
    "colab_type": "code",
    "id": "gH3H82ZdxEi0"
   },
   "outputs": [],
   "source": [
    "metrics = ['loss', 'accuracy']"
   ]
  },
  {
   "cell_type": "code",
   "execution_count": 36,
   "metadata": {
    "colab": {
     "base_uri": "https://localhost:8080/",
     "height": 769
    },
    "colab_type": "code",
    "id": "NGGt4CXexEf6",
    "outputId": "19dded23-ffd3-4eac-f5db-5a14fa0ad7a6"
   },
   "outputs": [
    {
     "data": {
      "image/png": "[encoded data removed]",
      "text/plain": [
       "<IPython.core.display.Image object>"
      ]
     },
     "execution_count": 36,
     "metadata": {
      "tags": []
     },
     "output_type": "execute_result"
    },
    {
     "data": {
      "image/png": "[encoded data removed]",
      "text/plain": [
       "<Figure size 864x432 with 2 Axes>"
      ]
     },
     "metadata": {
      "needs_background": "light",
      "tags": []
     },
     "output_type": "display_data"
    }
   ],
   "source": [
    "plot_metrics(history_simple_rnn, metrics, title_fig = 'Simple RNN', name_save='simple_rnn' )\n",
    "tf.keras.utils.plot_model(model_simple_rnn, to_file=f'{path}model_simle_rnn.png')"
   ]
  },
  {
   "cell_type": "code",
   "execution_count": 37,
   "metadata": {
    "colab": {
     "base_uri": "https://localhost:8080/",
     "height": 769
    },
    "colab_type": "code",
    "id": "omSTSzFMxEdU",
    "outputId": "99e14c4e-a6e6-4686-ab02-441035e541da"
   },
   "outputs": [
    {
     "data": {
      "image/png": "[encoded data removed]",
      "text/plain": [
       "<IPython.core.display.Image object>"
      ]
     },
     "execution_count": 37,
     "metadata": {
      "tags": []
     },
     "output_type": "execute_result"
    },
    {
     "data": {
      "image/png": "[encoded data removed]",
      "text/plain": [
       "<Figure size 864x432 with 2 Axes>"
      ]
     },
     "metadata": {
      "needs_background": "light",
      "tags": []
     },
     "output_type": "display_data"
    }
   ],
   "source": [
    "plot_metrics(history_one_layer_lstm, metrics, title_fig = 'One layer LSTM', name_save='one_layer_lstm' )\n",
    "tf.keras.utils.plot_model(model_one_layer_lstm, to_file=f'{path}model_one_layer_lstm.png')"
   ]
  },
  {
   "cell_type": "code",
   "execution_count": 38,
   "metadata": {
    "colab": {
     "base_uri": "https://localhost:8080/",
     "height": 866
    },
    "colab_type": "code",
    "id": "LUgSkzLdxUF-",
    "outputId": "f6ade945-fe05-428a-efe9-7f59662aa4c6"
   },
   "outputs": [
    {
     "data": {
      "image/png": "[encoded data removed]",
      "text/plain": [
       "<IPython.core.display.Image object>"
      ]
     },
     "execution_count": 38,
     "metadata": {
      "tags": []
     },
     "output_type": "execute_result"
    },
    {
     "data": {
      "image/png": "[encoded data removed]",
      "text/plain": [
       "<Figure size 864x432 with 2 Axes>"
      ]
     },
     "metadata": {
      "needs_background": "light",
      "tags": []
     },
     "output_type": "display_data"
    }
   ],
   "source": [
    "plot_metrics(history_two_layer_lstm, metrics, title_fig = 'Two layer LSTM', name_save='two_layer_lstm' )\n",
    "tf.keras.utils.plot_model(model_two_layer_lstm, to_file=f'{path}model_two_layer_lstm.png')"
   ]
  },
  {
   "cell_type": "code",
   "execution_count": 39,
   "metadata": {
    "colab": {
     "base_uri": "https://localhost:8080/",
     "height": 769
    },
    "colab_type": "code",
    "id": "6Kf05WiVxUEF",
    "outputId": "5eba31ed-5e30-4a37-8e97-e8689e61ab42"
   },
   "outputs": [
    {
     "data": {
      "image/png": "[encoded data removed]",
      "text/plain": [
       "<IPython.core.display.Image object>"
      ]
     },
     "execution_count": 39,
     "metadata": {
      "tags": []
     },
     "output_type": "execute_result"
    },
    {
     "data": {
      "image/png": "[encoded data removed]",
      "text/plain": [
       "<Figure size 864x432 with 2 Axes>"
      ]
     },
     "metadata": {
      "needs_background": "light",
      "tags": []
     },
     "output_type": "display_data"
    }
   ],
   "source": [
    "plot_metrics(history_simple_gru, metrics, title_fig = 'Simple GRU', name_save='simple_gru' )\n",
    "tf.keras.utils.plot_model(model_simple_gru, to_file=f'{path}model_simple_gru.png')"
   ]
  }
 ],
 "metadata": {
  "accelerator": "GPU",
  "colab": {
   "collapsed_sections": [],
   "name": "ReccurancyNetwork.ipynb",
   "provenance": []
  },
  "kernelspec": {
   "display_name": "Python 3",
   "language": "python",
   "name": "python3"
  },
  "language_info": {
   "codemirror_mode": {
    "name": "ipython",
    "version": 3
   },
   "file_extension": ".py",
   "mimetype": "text/x-python",
   "name": "python",
   "nbconvert_exporter": "python",
   "pygments_lexer": "ipython3",
   "version": "3.7.3"
  }
 },
 "nbformat": 4,
 "nbformat_minor": 1
}
